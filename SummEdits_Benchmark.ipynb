{
 "cells": [
  {
   "cell_type": "code",
   "execution_count": 46,
   "metadata": {},
   "outputs": [
    {
     "name": "stdout",
     "output_type": "stream",
     "text": [
      "Selected domain: shakespeare\n",
      "{'id': 'shakespeare_24_8', 'doc': \"COMINIUS:\\nO, you have made good work!\\n\\nMENENIUS:\\nWhat news? what news?\\n\\nCOMINIUS:\\nYou have holp to ravish your own daughters and\\nTo melt the city leads upon your pates,\\nTo see your wives dishonour'd to your noses,--\\n\\nMENENIUS:\\nWhat's the news? what's the news?\\n\\nCOMINIUS:\\nYour temples burned in their cement, and\\nYour franchises, whereon you stood, confined\\nInto an auger's bore.\\n\\nMENENIUS:\\nPray now, your news?\\nYou have made fair work, I fear me.--Pray, your news?--\\nIf Marcius should be join'd with Volscians,--\\n\\nCOMINIUS:\\nIf!\\nHe is their god: he leads them like a thing\\nMade by some other deity than nature,\\nThat shapes man better; and they follow him,\\nAgainst us brats, with no less confidence\\nThan boys pursuing summer butterflies,\\nOr butchers killing flies.\\n\\nMENENIUS:\\nYou have made good work,\\nYou and your apron-men; you that stood so up much\\non the voice of occupation and\\nThe breath of garlic-eaters!\\n\\nCOMINIUS:\\nHe will shake\\nYour Rome about your ears.\\n\\nMENENIUS:\\nAs Hercules\\nDid shake down mellow fruit.\\nYou have made fair work!\\n\\nBRUTUS:\\nBut is this true, sir?\\n\\nCOMINIUS:\\nAy; and you'll look pale\\nBefore you find it other. All the regions\\nDo smilingly revolt; and who resist\\nAre mock'd for valiant ignorance,\\nAnd perish constant fools. Who is't can blame him?\\nYour enemies and his find something in him.\\n\\nMENENIUS:\\nWe are all undone, unless\\nThe noble man have mercy.\\n\\nCOMINIUS:\\nWho shall ask it?\\nThe tribunes cannot do't for shame; the people\\nDeserve such pity of him as the wolf\\nDoes of the shepherds: for his best friends, if they\\nShould say 'Be good to Rome,' they charged him even\\nAs those should do that had deserved his hate,\\nAnd therein show'd like enemies.\\n\\nMENENIUS:\\n'Tis true:\\nIf he were putting to my house the brand\\nThat should consume it, I have not the face\\nTo say 'Beseech you, cease.' You have made fair hands,\\nYou and your crafts! you have crafted fair!\\n\\nCOMINIUS:\\nYou have brought\\nA trembling upon Rome, such as was never\\nSo incapable of help.\\n\\nBoth Tribunes:\\nSay not we brought it.\\n\\nMENENIUS:\\nHow! Was it we? we loved him but, like beasts\\nAnd cowardly nobles, gave way unto your clusters,\\nWho did hoot him out o' the city.\\n\\nCOMINIUS:\\nBut I fear\\nThey'll roar him in again. Tullus Aufidius,\\nThe second name of men, obeys his points\\nAs if he were his officer: desperation\\nIs all the policy, strength and defence,\\nThat Rome can make against them.\\n\\nMENENIUS:\\nHere come the clusters.\\nAnd is Aufidius with him? You are they\\nThat made the air unwholesome, when you cast\\nYour stinking greasy caps in hooting at\\nCoriolanus' exile. Now he's coming;\\nAnd not a hair upon a soldier's head\\nWhich will not prove a whip: as many coxcombs\\nAs you threw caps up will he tumble down,\\nAnd pay you for your voices. 'Tis no matter;\\nif he could burn us all into one coal,\\nWe have deserved it.\\n\\nCitizens:\\nFaith, we hear fearful news.\\n\\nFirst Citizen:\\nFor mine own part,\\nWhen I said, banish him, I said 'twas pity.\\n\\nSecond Citizen:\\nAnd so did I.\\n\\nThird Citizen:\\nAnd so did I; and, to say the truth, so did very\\nmany of us: that we did, we did for the best; and\\nthough we willingly consented to his banishment, yet\\nit was against our will.\\n\\nCOMINIUS:\\nYe re goodly things, you voices!\\n\\nMENENIUS:\\nYou have made\\nGood work, you and your cry! Shall's to the Capitol?\\n\\nCOMINIUS:\\nO, ay, what else?\\n\\nSICINIUS:\\nGo, masters, get you home; be not dismay'd:\\nThese are a side that would be glad to have\\nThis true which they so seem to fear. Go home,\\nAnd show no sign of fear.\\n\\nFirst Citizen:\\nThe gods be good to us! Come, masters, let's home.\\nI ever said we were i' the wrong when we banished\\nhim.\\n\\nSecond Citizen:\\nSo did we all. But, come, let's home.\\n\\nBRUTUS:\\nI do not like this news.\\n\\nSICINIUS:\\nNor I.\\n\\nBRUTUS:\\nLet's to the Capitol. Would half my wealth\\nWould buy this for a lie!\\n\\nSICINIUS:\\nPray, let us go.\\n\\nAUFIDIUS:\\nDo they still fly to the Roman?\\n\\nLieutenant:\\nI do not know what witchcraft's in him, but\\nYour soldiers use him as the grace 'fore meat,\\nTheir talk at table, and their thanks at end;\\nAnd you are darken'd in this action, sir,\\nEven by your own.\\n\\nAUFIDIUS:\\nI cannot help it now,\\nUnless, by using means, I lame the foot\\nOf our design. He bears himself more proudlier,\\nEven to my person, than I thought he would\\nWhen first I did embrace him: yet his nature\\nIn that's no changeling; and I must excuse\\nWhat cannot be amended.\\n\\nLieutenant:\\nYet I wish, sir,--\\nI mean for your particular,--you had not\\nJoin'd in commission with him; but either\\nHad borne the action of yourself, or else\\nTo him had left it solely.\\n\\nAUFIDIUS:\\nI understand thee well; and be thou sure,\\nwhen he shall come to his account, he knows not\\nWhat I can urge against him. Although it seems,\\nAnd so he thinks, and is no less apparent\\nTo the vulgar eye, that he bears all things fairly.\\nAnd shows good husbandry for the Volscian state,\\nFights dragon-like, and does achieve as soon\\nAs draw his sword; yet he hath left undone\\nThat which shall break his neck or hazard mine,\\nWhene'er we come to our account.\", 'summary': \"The characters discuss the effects of banishing Marcius (Coriolanus), with Cominius warning that his partnership with the Volscians will bring great danger to Rome. Despite the citizens' regrets over their decision, Menenius and Cominius criticize them for making this mistake and brace for the upcoming conflict.\", 'label': 1, 'original_summary': \"The characters discuss the consequences of banishing Marcius (Coriolanus), with Cominius warning that his alliance with the Volscians will bring great danger to Rome. Despite the citizens' regrets over their decision, Menenius and Cominius criticize them for making this mistake and brace for the upcoming conflict.\", 'edit_types': []}\n"
     ]
    }
   ],
   "source": [
    "import json, random\n",
    "\n",
    "domains = [\"podcast\", \"billsum\", \"samsum\", \"news\", \"sales_call\", \"sales_email\", \"shakespeare\", \"scitldr\", \"qmsumm\", \"ectsum\"]\n",
    "domain = random.choice(domains)\n",
    "print(\"Selected domain: %s\" % (domain))\n",
    "with open(\"data/summedits/summedits_%s.json\" % (domain), \"r\") as f:\n",
    "    domain_data = json.load(f)\n",
    "\n",
    "sample = random.choice(domain_data)\n",
    "print(sample)"
   ]
  },
  {
   "cell_type": "code",
   "execution_count": 50,
   "metadata": {},
   "outputs": [
    {
     "name": "stdout",
     "output_type": "stream",
     "text": [
      "This excerpt from a play features Marcius discussing battles, strategies, and\u001b[1;31mfighting\u001b[0m\u001b[1;32mdancing\u001b[0m alongside Cominius. Marcius pleads for the chance to face his sworn enemy, Aufidius, in the upcoming\u001b[1;31mconflict\u001b[0m\u001b[1;32mball\u001b[0m, while Cominius and Lartius make plans for securing their\u001b[1;31mgains\u001b[0m\u001b[1;32mlosses\u001b[0m and protecting their territory.\n",
      "Label of sample: 0 (0 = inconsistent, 1 = consistent)\n"
     ]
    }
   ],
   "source": [
    "import utils_diff\n",
    "\n",
    "# You can explicitly see what the edit is (insertion in green, deletion in red)\n",
    "print(utils_diff.make_colored_text(sample[\"original_summary\"], sample[\"summary\"]))\n",
    "print(\"Label of sample: %s (0 = inconsistent, 1 = consistent)\" % (sample[\"label\"]))"
   ]
  },
  {
   "cell_type": "code",
   "execution_count": 51,
   "metadata": {},
   "outputs": [
    {
     "name": "stdout",
     "output_type": "stream",
     "text": [
      "This excerpt from a play features Marcius discussing battles, strategies, and fighting alongside Cominius. Marcius pleads for the chance to face his sworn enemy, Aufidius, in the upcoming conflict, while Cominius and Lartius make plans for securing their gains and protecting their territory.\n",
      "Label of sample: 1 (0 = inconsistent, 1 = consistent)\n",
      "\n",
      "This excerpt from a play features Marcius discussing battles, strategies, and\u001b[1;31mfighting\u001b[0m\u001b[1;32mdancing\u001b[0m alongside Cominius. Marcius pleads for the chance to face his sworn enemy, Aufidius, in the upcoming\u001b[1;31mconflict\u001b[0m\u001b[1;32mball\u001b[0m, while Cominius and Lartius make plans for securing their\u001b[1;31mgains\u001b[0m\u001b[1;32mlosses\u001b[0m and protecting their territory.\n",
      "Label of sample: 0 (0 = inconsistent, 1 = consistent)\n",
      "\n",
      "This excerpt from a play features Marcius discussing\u001b[1;31mbattles\u001b[0m\u001b[1;32mpeace negotiations\u001b[0m, strategies, and fighting alongside Cominius. Marcius pleads for the chance to face his sworn\u001b[1;31menemy\u001b[0m\u001b[1;32mally\u001b[0m, Aufidius, in the upcoming conflict, while Cominius and Lartius make plans for\u001b[1;31msecuring\u001b[0m\u001b[1;32msabotaging\u001b[0m their gains and\u001b[1;31mprotecting\u001b[0m\u001b[1;32minvading\u001b[0m their territory.\n",
      "Label of sample: 0 (0 = inconsistent, 1 = consistent)\n",
      "\n",
      "This excerpt from a play features Marcius discussing\u001b[1;31mbattles\u001b[0m\u001b[1;32mskirmishes\u001b[0m, strategies, and fighting alongside Cominius. Marcius pleads for the chance to\u001b[1;31mface\u001b[0m\u001b[1;32mconfront\u001b[0m his sworn\u001b[1;31menemy\u001b[0m\u001b[1;32madversary\u001b[0m, Aufidius, in the upcoming\u001b[1;31mconflict\u001b[0m\u001b[1;32mbattle\u001b[0m, while Cominius and Lartius make plans for securing their\u001b[1;31mgains\u001b[0m\u001b[1;32maccomplishments\u001b[0m and\u001b[1;31mprotecting\u001b[0m\u001b[1;32msafeguarding\u001b[0m their territory.\n",
      "Label of sample: 1 (0 = inconsistent, 1 = consistent)\n",
      "\n",
      "This excerpt from a play\u001b[1;31mfeatures\u001b[0m\u001b[1;32mshowcases\u001b[0m Marcius discussing battles, strategies, and fighting alongside Cominius. Marcius\u001b[1;31mpleads\u001b[0m\u001b[1;32mentreats\u001b[0m for the\u001b[1;31mchance\u001b[0m\u001b[1;32mpossibility\u001b[0m to\u001b[1;31mface\u001b[0m\u001b[1;32mconfront\u001b[0m his sworn\u001b[1;31menemy\u001b[0m\u001b[1;32mopponent\u001b[0m, Aufidius, in the upcoming conflict, while Cominius and Lartius make\u001b[1;31mplans\u001b[0m\u001b[1;32marrangements\u001b[0m for securing their\u001b[1;31mgains\u001b[0m\u001b[1;32mprofits\u001b[0m and\u001b[1;31mprotecting\u001b[0m\u001b[1;32msafeguarding\u001b[0m their territory.\n",
      "Label of sample: 1 (0 = inconsistent, 1 = consistent)\n",
      "\n",
      "This excerpt from a play features Marcius discussing battles,\u001b[1;31mstrategies\u001b[0m\u001b[1;32mtactics\u001b[0m, and fighting alongside Cominius. Marcius pleads for the chance to face his\u001b[1;31msworn enemy\u001b[0m\u001b[1;32msignificant foe\u001b[0m, Aufidius, in the upcoming\u001b[1;31mconflict\u001b[0m\u001b[1;32mcombat\u001b[0m, while Cominius and Lartius make\u001b[1;31mplans\u001b[0m\u001b[1;32marrangements\u001b[0m for securing their\u001b[1;31mgains\u001b[0m\u001b[1;32mprogress\u001b[0m and protecting their territory.\n",
      "Label of sample: 0 (0 = inconsistent, 1 = consistent)\n",
      "\n",
      "This excerpt from a play features Marcius discussing battles,\u001b[1;31mstrategies\u001b[0m\u001b[1;32mtactics\u001b[0m, and fighting\u001b[1;31malongside\u001b[0m\u001b[1;32mwith\u001b[0m Cominius. Marcius pleads for the\u001b[1;31mchance\u001b[0m\u001b[1;32mopportunity\u001b[0m to face his sworn\u001b[1;31menemy\u001b[0m\u001b[1;32mfoe\u001b[0m, Aufidius, in the\u001b[1;31mupcoming\u001b[0m\u001b[1;32mforthcoming\u001b[0m conflict, while Cominius and Lartius make\u001b[1;31mplans\u001b[0m\u001b[1;32mpreparations\u001b[0m for\u001b[1;31msecuring\u001b[0m\u001b[1;32mprotecting\u001b[0m their gains and\u001b[1;31mprotecting\u001b[0m\u001b[1;32mguarding\u001b[0m their territory.\n",
      "Label of sample: 0 (0 = inconsistent, 1 = consistent)\n",
      "\n",
      "This excerpt from a play features Marcius discussing battles, strategies, and fighting\u001b[1;31malongside Cominius\u001b[0m\u001b[1;32malone\u001b[0m. Marcius pleads for the chance to face his sworn enemy, Aufidius, in the upcoming conflict, while Cominius and Lartius make plans for securing their gains and protecting their territory\u001b[1;32mwith auxiliary forces\u001b[0m.\n",
      "Label of sample: 0 (0 = inconsistent, 1 = consistent)\n",
      "\n",
      "This excerpt from a play features Marcius discussing battles,\u001b[1;31mstrategies\u001b[0m\u001b[1;32mtactics\u001b[0m, and fighting alongside Cominius. Marcius\u001b[1;31mpleads\u001b[0m\u001b[1;32mbegs\u001b[0m for the\u001b[1;31mchance\u001b[0m\u001b[1;32mopportunity\u001b[0m to\u001b[1;31mface\u001b[0m\u001b[1;32mconfront\u001b[0m his sworn enemy, Aufidius, in the upcoming conflict, while Cominius and Lartius make\u001b[1;31mplans\u001b[0m\u001b[1;32marrangements\u001b[0m for securing their gains and protecting their\u001b[1;31mterritory\u001b[0m\u001b[1;32mregion\u001b[0m.\n",
      "Label of sample: 1 (0 = inconsistent, 1 = consistent)\n",
      "\n",
      "This excerpt from a play\u001b[1;31mfeatures\u001b[0m\u001b[1;32mpresents\u001b[0m Marcius discussing battles,\u001b[1;31mstrategies\u001b[0m\u001b[1;32mtactics\u001b[0m, and fighting alongside Cominius. Marcius\u001b[1;31mpleads\u001b[0m\u001b[1;32mbeseeches\u001b[0m for the chance to face his sworn\u001b[1;31menemy\u001b[0m\u001b[1;32mnemesis\u001b[0m, Aufidius, in the\u001b[1;31mupcoming conflict\u001b[0m\u001b[1;32mforthcoming skirmish\u001b[0m, while Cominius and Lartius make\u001b[1;31mplans\u001b[0m\u001b[1;32mpreparations\u001b[0m for securing their gains and\u001b[1;31mprotecting\u001b[0m\u001b[1;32msheltering\u001b[0m their territory.\n",
      "Label of sample: 1 (0 = inconsistent, 1 = consistent)\n",
      "\n",
      "This excerpt from a play\u001b[1;31mfeatures\u001b[0m\u001b[1;32mshowcases\u001b[0m Marcius discussing battles,\u001b[1;31mstrategies\u001b[0m\u001b[1;32mapproaches\u001b[0m, and\u001b[1;31mfighting\u001b[0m\u001b[1;32mbattling\u001b[0m alongside Cominius. Marcius\u001b[1;31mpleads\u001b[0m\u001b[1;32mentreats\u001b[0m for the\u001b[1;31mchance\u001b[0m\u001b[1;32moccasion\u001b[0m to face his sworn enemy, Aufidius, in the upcoming\u001b[1;31mconflict\u001b[0m\u001b[1;32mclash\u001b[0m, while Cominius and Lartius make plans for securing their\u001b[1;31mgains\u001b[0m\u001b[1;32mprofits\u001b[0m and\u001b[1;31mprotecting\u001b[0m\u001b[1;32mdefending\u001b[0m their territory.\n",
      "Label of sample: 1 (0 = inconsistent, 1 = consistent)\n",
      "\n",
      "This excerpt from a play features Marcius discussing battles, strategies, and fighting alongside Cominius. Marcius pleads for the chance to face his sworn enemy, Aufidius, in the upcoming conflict, while Cominius and Lartius make plans for\u001b[1;31msecuring\u001b[0m\u001b[1;32mrevealing\u001b[0m their\u001b[1;31mgains\u001b[0m\u001b[1;32marmy's location\u001b[0m and\u001b[1;31mprotecting\u001b[0m\u001b[1;32msacrificing\u001b[0m their territory.\n",
      "Label of sample: 0 (0 = inconsistent, 1 = consistent)\n",
      "\n",
      "This excerpt from a play features Marcius discussing battles, strategies, and fighting alongside Cominius. Marcius pleads for the chance to face his sworn\u001b[1;31menemy\u001b[0m\u001b[1;32mally\u001b[0m, Aufidius, in the upcoming conflict, while Cominius and Lartius make plans for\u001b[1;31msecuring their gains and protecting\u001b[0m\u001b[1;32mlosing\u001b[0m their territory.\n",
      "Label of sample: 0 (0 = inconsistent, 1 = consistent)\n",
      "\n",
      "This excerpt from a play features Marcius discussing\u001b[1;31mbattles\u001b[0m\u001b[1;32mparties\u001b[0m, strategies, and fighting alongside Cominius. Marcius pleads for the chance to face his sworn enemy, Aufidius, in the upcoming\u001b[1;31mconflict\u001b[0m\u001b[1;32melection\u001b[0m, while Cominius and Lartius make plans for securing their gains and protecting their territory.\n",
      "Label of sample: 0 (0 = inconsistent, 1 = consistent)\n",
      "\n",
      "This excerpt from a play features Marcius discussing battles, strategies, and fighting alongside Cominius. Marcius pleads for the chance to face his sworn enemy, Aufidius, in the upcoming conflict, while Cominius and Lartius make plans for\u001b[1;31msecuring\u001b[0m\u001b[1;32msharing\u001b[0m their gains and\u001b[1;31mprotecting\u001b[0m\u001b[1;32msacrificing\u001b[0m their territory.\n",
      "Label of sample: 0 (0 = inconsistent, 1 = consistent)\n",
      "\n",
      "This excerpt from a play features Marcius discussing\u001b[1;31mbattles\u001b[0m\u001b[1;32mpeace negotiations\u001b[0m, strategies, and fighting alongside Cominius. Marcius pleads for the chance to face his sworn enemy, Aufidius, in the upcoming conflict, while Cominius and Lartius make plans for\u001b[1;31msecuring\u001b[0m\u001b[1;32mreturning\u001b[0m their gains and\u001b[1;31mprotecting\u001b[0m\u001b[1;32mabandoning\u001b[0m their territory.\n",
      "Label of sample: 0 (0 = inconsistent, 1 = consistent)\n",
      "\n",
      "This excerpt from a play features Marcius discussing battles,\u001b[1;31mstrategies\u001b[0m\u001b[1;32mplans\u001b[0m, and fighting alongside Cominius. Marcius\u001b[1;31mpleads\u001b[0m\u001b[1;32mimplores\u001b[0m for the chance to\u001b[1;31mface\u001b[0m\u001b[1;32mengage\u001b[0m his\u001b[1;31msworn enemy\u001b[0m\u001b[1;32multimate foe\u001b[0m, Aufidius, in the upcoming\u001b[1;31mconflict\u001b[0m\u001b[1;32mfray\u001b[0m, while Cominius and Lartius make plans for securing their\u001b[1;31mgains\u001b[0m\u001b[1;32mprofits\u001b[0m and\u001b[1;31mprotecting\u001b[0m\u001b[1;32msafeguarding\u001b[0m their territory.\n",
      "Label of sample: 1 (0 = inconsistent, 1 = consistent)\n",
      "\n",
      "This excerpt from a\u001b[1;31mplay\u001b[0m\u001b[1;32mpoem\u001b[0m features Marcius discussing battles, strategies, and fighting\u001b[1;31malongside Cominius\u001b[0m\u001b[1;32malone\u001b[0m. Marcius pleads for the chance to face his sworn enemy, Aufidius, in the upcoming\u001b[1;31mconflict\u001b[0m\u001b[1;32mpeace negotiation\u001b[0m, while Cominius and Lartius make plans for\u001b[1;31msecuring their gains\u001b[0m\u001b[1;32mexchanging territory\u001b[0m and\u001b[1;31mprotecting their territory\u001b[0m\u001b[1;32mshares\u001b[0m.\n",
      "Label of sample: 0 (0 = inconsistent, 1 = consistent)\n",
      "\n",
      "This excerpt from a\u001b[1;31mplay\u001b[0m\u001b[1;32msoliloquy\u001b[0m features Marcius discussing battles, strategies, and fighting alongside Cominius. Marcius pleads for the chance to face his sworn enemy, Aufidius, in the upcoming conflict, while Cominius and Lartius make plans for securing their gains and\u001b[1;31mprotecting\u001b[0m\u001b[1;32mexpanding\u001b[0m their territory.\n",
      "Label of sample: 0 (0 = inconsistent, 1 = consistent)\n",
      "\n",
      "This excerpt from a play features Marcius discussing\u001b[1;31mbattles\u001b[0m\u001b[1;32mlove\u001b[0m, strategies, and fighting alongside Cominius. Marcius pleads for the chance to face his sworn enemy, Aufidius, in the\u001b[1;31mupcoming\u001b[0m\u001b[1;32mpast\u001b[0m conflict, while Cominius and Lartius make plans for\u001b[1;32mrefraining from fighting and\u001b[0m securing their\u001b[1;31mgains and protecting their\u001b[0m\u001b[1;32mlosing\u001b[0m territory.\n",
      "Label of sample: 0 (0 = inconsistent, 1 = consistent)\n",
      "\n",
      "This excerpt from a play features Marcius discussing battles,\u001b[1;31mstrategies\u001b[0m\u001b[1;32mpeace treaties\u001b[0m, and fighting alongside Cominius. Marcius pleads for the chance to face his sworn enemy, Aufidius, in the upcoming\u001b[1;31mconflict\u001b[0m\u001b[1;32mpeace talks\u001b[0m, while Cominius and Lartius make plans for securing their gains and protecting their territory.\n",
      "Label of sample: 0 (0 = inconsistent, 1 = consistent)\n",
      "\n",
      "This excerpt from a play features Marcius discussing battles, strategies, and\u001b[1;31mfighting alongside\u001b[0m\u001b[1;32mfriending\u001b[0m Cominius. Marcius pleads for the chance to face his sworn enemy, Aufidius, in the upcoming\u001b[1;31mconflict\u001b[0m\u001b[1;32mcoffee date\u001b[0m, while Cominius and Lartius make plans for securing their gains and protecting their territory.\n",
      "Label of sample: 0 (0 = inconsistent, 1 = consistent)\n",
      "\n",
      "This excerpt from a play features Marcius discussing battles, strategies, and fighting alongside Cominius. Marcius\u001b[1;31mpleads\u001b[0m\u001b[1;32mbeseeches\u001b[0m for the chance to face\u001b[1;32moff against\u001b[0m his sworn enemy, Aufidius, in the upcoming conflict, while Cominius and Lartius make plans for securing their\u001b[1;31mgains\u001b[0m\u001b[1;32mprofits\u001b[0m and protecting their territory.\n",
      "Label of sample: 1 (0 = inconsistent, 1 = consistent)\n",
      "\n",
      "This excerpt from a play features Marcius discussing battles, strategies, and fighting alongside Cominius. Marcius pleads for the chance to face his sworn enemy, Aufidius, in the\u001b[1;31mupcoming\u001b[0m\u001b[1;32mprevious\u001b[0m conflict, while Cominius and Lartius make plans for securing their gains and protecting their territory.\n",
      "Label of sample: 0 (0 = inconsistent, 1 = consistent)\n",
      "\n",
      "This excerpt from a play features Marcius discussing battles, strategies, and fighting\u001b[1;31malongside Cominius\u001b[0m\u001b[1;32malone\u001b[0m. Marcius pleads for the chance to face his sworn enemy, Aufidius, in the\u001b[1;31mupcoming\u001b[0m\u001b[1;32mpast\u001b[0m conflict, while Cominius and Lartius make plans for\u001b[1;31msecuring\u001b[0m\u001b[1;32mreversing\u001b[0m their gains and\u001b[1;31mprotecting\u001b[0m\u001b[1;32mlosing\u001b[0m their territory.\n",
      "Label of sample: 0 (0 = inconsistent, 1 = consistent)\n",
      "\n",
      "This excerpt from a play features Marcius discussing battles, strategies, and fighting\u001b[1;31malongside Cominius\u001b[0m\u001b[1;32malone\u001b[0m. Marcius pleads for the chance to face his\u001b[1;31msworn enemy\u001b[0m\u001b[1;32mtrusted ally\u001b[0m, Aufidius, in the upcoming conflict, while Cominius and Lartius make plans for\u001b[1;31msecuring\u001b[0m\u001b[1;32mcovering\u001b[0m their gains and protecting their territory.\n",
      "Label of sample: 0 (0 = inconsistent, 1 = consistent)\n",
      "\n",
      "This excerpt from a play features Marcius discussing battles,\u001b[1;31mstrategies\u001b[0m\u001b[1;32mtactics\u001b[0m, and\u001b[1;31mfighting\u001b[0m\u001b[1;32mcombatting\u001b[0m alongside Cominius. Marcius pleads for the chance to\u001b[1;31mface\u001b[0m\u001b[1;32mconfront\u001b[0m his\u001b[1;31msworn enemy\u001b[0m\u001b[1;32march-nemesis\u001b[0m, Aufidius, in the\u001b[1;31mupcoming\u001b[0m\u001b[1;32mimpending\u001b[0m conflict, while Cominius and Lartius make\u001b[1;31mplans\u001b[0m\u001b[1;32mpreparations\u001b[0m for securing their\u001b[1;31mgains\u001b[0m\u001b[1;32madvantages\u001b[0m and protecting their territory.\n",
      "Label of sample: 0 (0 = inconsistent, 1 = consistent)\n",
      "\n",
      "This excerpt from a play features Marcius discussing battles,\u001b[1;31mstrategies\u001b[0m\u001b[1;32mtactics\u001b[0m, and fighting alongside Cominius. Marcius pleads for the\u001b[1;31mchance\u001b[0m\u001b[1;32mopportunity\u001b[0m to\u001b[1;31mface\u001b[0m\u001b[1;32mconfront\u001b[0m his sworn\u001b[1;31menemy\u001b[0m\u001b[1;32mnemesis\u001b[0m, Aufidius, in the\u001b[1;31mupcoming\u001b[0m\u001b[1;32mforthcoming\u001b[0m conflict,\u001b[1;31mwhile\u001b[0m\u001b[1;32mwhilst\u001b[0m Cominius and Lartius make\u001b[1;31mplans\u001b[0m\u001b[1;32marrangements\u001b[0m for securing their\u001b[1;31mgains\u001b[0m\u001b[1;32mearnings\u001b[0m and protecting their territory.\n",
      "Label of sample: 1 (0 = inconsistent, 1 = consistent)\n",
      "\n",
      "This excerpt from a play features Marcius discussing battles\u001b[1;31m,\u001b[0m\u001b[1;32mand\u001b[0m strategies\u001b[1;31m, and fighting alongside Cominius\u001b[0m. Marcius pleads for the chance to face his sworn enemy, Aufidius, in the upcoming conflict, while Cominius and Lartius make plans for\u001b[1;31msecuring\u001b[0m\u001b[1;32msurrendering\u001b[0m their gains and\u001b[1;31mprotecting\u001b[0m\u001b[1;32mvacating\u001b[0m their territory.\n",
      "Label of sample: 0 (0 = inconsistent, 1 = consistent)\n",
      "\n",
      "This excerpt from a play features Marcius discussing battles, strategies, and fighting alongside\u001b[1;31mCominius\u001b[0m\u001b[1;32mClitus\u001b[0m. Marcius pleads for the chance to face his sworn enemy, Aufidius, in the upcoming conflict, while Cominius and Lartius make plans for securing their gains and protecting their territory.\n",
      "Label of sample: 0 (0 = inconsistent, 1 = consistent)\n",
      "\n",
      "This excerpt from a play features Marcius discussing\u001b[1;31mbattles\u001b[0m\u001b[1;32mfights\u001b[0m, strategies\u001b[1;31m,\u001b[0m and\u001b[1;31mfighting alongside Cominius\u001b[0m\u001b[1;32mteamwork\u001b[0m. Marcius pleads for the chance to face his sworn enemy,\u001b[1;31mAufidius\u001b[0m\u001b[1;32mCoriolanus\u001b[0m, in the upcoming conflict, while Cominius and Lartius make plans for\u001b[1;31msecuring\u001b[0m\u001b[1;32mexposing\u001b[0m their\u001b[1;31mgains\u001b[0m\u001b[1;32mweaknesses\u001b[0m and\u001b[1;31mprotecting\u001b[0m\u001b[1;32mabandoning\u001b[0m their territory.\n",
      "Label of sample: 0 (0 = inconsistent, 1 = consistent)\n",
      "\n",
      "This excerpt from a play features Marcius discussing\u001b[1;31mbattles\u001b[0m\u001b[1;32mbusiness\u001b[0m, strategies, and fighting alongside Cominius. Marcius pleads for the chance to face his sworn enemy, Aufidius, in the upcoming\u001b[1;31mconflict\u001b[0m\u001b[1;32mnegotiation\u001b[0m, while Cominius and Lartius make plans for securing their gains and protecting their\u001b[1;31mterritory\u001b[0m\u001b[1;32mempire\u001b[0m.\n",
      "Label of sample: 0 (0 = inconsistent, 1 = consistent)\n",
      "\n",
      "This excerpt from a play features Marcius discussing battles,\u001b[1;31mstrategies\u001b[0m\u001b[1;32mtactics\u001b[0m, and fighting alongside Cominius. Marcius pleads for the\u001b[1;31mchance\u001b[0m\u001b[1;32mopportunity\u001b[0m to\u001b[1;31mface\u001b[0m\u001b[1;32mconfront\u001b[0m his sworn enemy, Aufidius, in the upcoming conflict, while Cominius and Lartius make plans for securing their gains and\u001b[1;31mprotecting\u001b[0m\u001b[1;32mguarding\u001b[0m their territory.\n",
      "Label of sample: 1 (0 = inconsistent, 1 = consistent)\n",
      "\n",
      "This excerpt from a play features Marcius discussing battles,\u001b[1;31mstrategies\u001b[0m\u001b[1;32mmethods\u001b[0m, and fighting alongside Cominius. Marcius\u001b[1;31mpleads\u001b[0m\u001b[1;32mbegs\u001b[0m for the chance to\u001b[1;31mface\u001b[0m\u001b[1;32mencounter\u001b[0m his\u001b[1;31msworn enemy\u001b[0m\u001b[1;32march-rival\u001b[0m, Aufidius, in the upcoming\u001b[1;31mconflict\u001b[0m\u001b[1;32mfight\u001b[0m, while Cominius and Lartius make\u001b[1;31mplans\u001b[0m\u001b[1;32mpreparations\u001b[0m for securing their\u001b[1;31mgains\u001b[0m\u001b[1;32mpossessions\u001b[0m and\u001b[1;31mprotecting\u001b[0m\u001b[1;32mguarding\u001b[0m their territory.\n",
      "Label of sample: 1 (0 = inconsistent, 1 = consistent)\n",
      "\n"
     ]
    }
   ],
   "source": [
    "# Here is how to see all other edits of the same summary:\n",
    "\n",
    "for d in domain_data:\n",
    "    if d[\"original_summary\"] == sample[\"original_summary\"]:\n",
    "        print(utils_diff.make_colored_text(d[\"original_summary\"], d[\"summary\"]))\n",
    "        print(\"Label of sample: %s (0 = inconsistent, 1 = consistent)\" % (d[\"label\"]))\n",
    "        print(\"\")"
   ]
  }
 ],
 "metadata": {
  "kernelspec": {
   "display_name": "base",
   "language": "python",
   "name": "python3"
  },
  "language_info": {
   "codemirror_mode": {
    "name": "ipython",
    "version": 3
   },
   "file_extension": ".py",
   "mimetype": "text/x-python",
   "name": "python",
   "nbconvert_exporter": "python",
   "pygments_lexer": "ipython3",
   "version": "3.9.7"
  },
  "orig_nbformat": 4
 },
 "nbformat": 4,
 "nbformat_minor": 2
}
